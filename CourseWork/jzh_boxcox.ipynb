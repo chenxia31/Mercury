{
 "cells": [
  {
   "cell_type": "code",
   "execution_count": 1,
   "metadata": {
    "collapsed": true
   },
   "outputs": [],
   "source": [
    "import pandas as pd"
   ]
  },
  {
   "cell_type": "code",
   "execution_count": 3,
   "outputs": [],
   "source": [
    "df=pd.read_excel('originData.xlsx')"
   ],
   "metadata": {
    "collapsed": false,
    "pycharm": {
     "name": "#%%\n"
    }
   }
  },
  {
   "cell_type": "code",
   "execution_count": 4,
   "outputs": [
    {
     "data": {
      "text/plain": "            S          K Correct or Not BoxCox or Not\n0    0.609514   0.577964           None       Box-Cox\n1    1.968076   6.964320           None       Box-Cox\n2    3.264920  11.708941           None          None\n3    2.040696   6.255319           None       Box-Cox\n4    2.594648   9.999340           None       Box-Cox\n..        ...        ...            ...           ...\n147  0.400391   0.603311        Correct       Box-Cox\n148  0.242425   0.395125           None       Box-Cox\n149  0.381609   0.222413           None       Box-Cox\n150  0.407512   0.395322        Correct       Box-Cox\n151  0.267007   0.006350        Correct       Box-Cox\n\n[152 rows x 4 columns]",
      "text/html": "<div>\n<style scoped>\n    .dataframe tbody tr th:only-of-type {\n        vertical-align: middle;\n    }\n\n    .dataframe tbody tr th {\n        vertical-align: top;\n    }\n\n    .dataframe thead th {\n        text-align: right;\n    }\n</style>\n<table border=\"1\" class=\"dataframe\">\n  <thead>\n    <tr style=\"text-align: right;\">\n      <th></th>\n      <th>S</th>\n      <th>K</th>\n      <th>Correct or Not</th>\n      <th>BoxCox or Not</th>\n    </tr>\n  </thead>\n  <tbody>\n    <tr>\n      <th>0</th>\n      <td>0.609514</td>\n      <td>0.577964</td>\n      <td>None</td>\n      <td>Box-Cox</td>\n    </tr>\n    <tr>\n      <th>1</th>\n      <td>1.968076</td>\n      <td>6.964320</td>\n      <td>None</td>\n      <td>Box-Cox</td>\n    </tr>\n    <tr>\n      <th>2</th>\n      <td>3.264920</td>\n      <td>11.708941</td>\n      <td>None</td>\n      <td>None</td>\n    </tr>\n    <tr>\n      <th>3</th>\n      <td>2.040696</td>\n      <td>6.255319</td>\n      <td>None</td>\n      <td>Box-Cox</td>\n    </tr>\n    <tr>\n      <th>4</th>\n      <td>2.594648</td>\n      <td>9.999340</td>\n      <td>None</td>\n      <td>Box-Cox</td>\n    </tr>\n    <tr>\n      <th>...</th>\n      <td>...</td>\n      <td>...</td>\n      <td>...</td>\n      <td>...</td>\n    </tr>\n    <tr>\n      <th>147</th>\n      <td>0.400391</td>\n      <td>0.603311</td>\n      <td>Correct</td>\n      <td>Box-Cox</td>\n    </tr>\n    <tr>\n      <th>148</th>\n      <td>0.242425</td>\n      <td>0.395125</td>\n      <td>None</td>\n      <td>Box-Cox</td>\n    </tr>\n    <tr>\n      <th>149</th>\n      <td>0.381609</td>\n      <td>0.222413</td>\n      <td>None</td>\n      <td>Box-Cox</td>\n    </tr>\n    <tr>\n      <th>150</th>\n      <td>0.407512</td>\n      <td>0.395322</td>\n      <td>Correct</td>\n      <td>Box-Cox</td>\n    </tr>\n    <tr>\n      <th>151</th>\n      <td>0.267007</td>\n      <td>0.006350</td>\n      <td>Correct</td>\n      <td>Box-Cox</td>\n    </tr>\n  </tbody>\n</table>\n<p>152 rows × 4 columns</p>\n</div>"
     },
     "execution_count": 4,
     "metadata": {},
     "output_type": "execute_result"
    }
   ],
   "source": [
    "df"
   ],
   "metadata": {
    "collapsed": false,
    "pycharm": {
     "name": "#%%\n"
    }
   }
  },
  {
   "cell_type": "code",
   "execution_count": 15,
   "outputs": [
    {
     "data": {
      "text/plain": "[Text(0.6551724137931034, 0.9615384615384616, 'X[0] <= 1.733\\ngini = 0.427\\nsamples = 152\\nvalue = [47, 105]'),\n Text(0.4827586206896552, 0.8846153846153846, 'X[1] <= 1.775\\ngini = 0.498\\nsamples = 94\\nvalue = [44, 50]'),\n Text(0.3448275862068966, 0.8076923076923077, 'X[1] <= -0.074\\ngini = 0.42\\nsamples = 70\\nvalue = [21, 49]'),\n Text(0.27586206896551724, 0.7307692307692307, 'gini = 0.0\\nsamples = 21\\nvalue = [0, 21]'),\n Text(0.41379310344827586, 0.7307692307692307, 'X[0] <= 1.133\\ngini = 0.49\\nsamples = 49\\nvalue = [21, 28]'),\n Text(0.3448275862068966, 0.6538461538461539, 'X[0] <= 0.255\\ngini = 0.496\\nsamples = 46\\nvalue = [21, 25]'),\n Text(0.20689655172413793, 0.5769230769230769, 'X[0] <= 0.034\\ngini = 0.375\\nsamples = 12\\nvalue = [3, 9]'),\n Text(0.13793103448275862, 0.5, 'X[1] <= 0.212\\ngini = 0.375\\nsamples = 4\\nvalue = [3, 1]'),\n Text(0.06896551724137931, 0.4230769230769231, 'gini = 0.0\\nsamples = 3\\nvalue = [3, 0]'),\n Text(0.20689655172413793, 0.4230769230769231, 'gini = 0.0\\nsamples = 1\\nvalue = [0, 1]'),\n Text(0.27586206896551724, 0.5, 'gini = 0.0\\nsamples = 8\\nvalue = [0, 8]'),\n Text(0.4827586206896552, 0.5769230769230769, 'X[1] <= 0.057\\ngini = 0.498\\nsamples = 34\\nvalue = [18, 16]'),\n Text(0.41379310344827586, 0.5, 'gini = 0.0\\nsamples = 3\\nvalue = [3, 0]'),\n Text(0.5517241379310345, 0.5, 'X[1] <= 0.287\\ngini = 0.499\\nsamples = 31\\nvalue = [15, 16]'),\n Text(0.3793103448275862, 0.4230769230769231, 'X[1] <= 0.119\\ngini = 0.278\\nsamples = 6\\nvalue = [1, 5]'),\n Text(0.3103448275862069, 0.34615384615384615, 'X[1] <= 0.074\\ngini = 0.5\\nsamples = 2\\nvalue = [1, 1]'),\n Text(0.2413793103448276, 0.2692307692307692, 'gini = 0.0\\nsamples = 1\\nvalue = [0, 1]'),\n Text(0.3793103448275862, 0.2692307692307692, 'gini = 0.0\\nsamples = 1\\nvalue = [1, 0]'),\n Text(0.4482758620689655, 0.34615384615384615, 'gini = 0.0\\nsamples = 4\\nvalue = [0, 4]'),\n Text(0.7241379310344828, 0.4230769230769231, 'X[0] <= 0.607\\ngini = 0.493\\nsamples = 25\\nvalue = [14, 11]'),\n Text(0.5862068965517241, 0.34615384615384615, 'X[1] <= 0.51\\ngini = 0.198\\nsamples = 9\\nvalue = [8, 1]'),\n Text(0.5172413793103449, 0.2692307692307692, 'X[1] <= 0.407\\ngini = 0.375\\nsamples = 4\\nvalue = [3, 1]'),\n Text(0.4482758620689655, 0.19230769230769232, 'gini = 0.0\\nsamples = 3\\nvalue = [3, 0]'),\n Text(0.5862068965517241, 0.19230769230769232, 'gini = 0.0\\nsamples = 1\\nvalue = [0, 1]'),\n Text(0.6551724137931034, 0.2692307692307692, 'gini = 0.0\\nsamples = 5\\nvalue = [5, 0]'),\n Text(0.8620689655172413, 0.34615384615384615, 'X[0] <= 0.975\\ngini = 0.469\\nsamples = 16\\nvalue = [6, 10]'),\n Text(0.7931034482758621, 0.2692307692307692, 'X[1] <= 1.301\\ngini = 0.408\\nsamples = 14\\nvalue = [4, 10]'),\n Text(0.7241379310344828, 0.19230769230769232, 'X[1] <= 0.971\\ngini = 0.48\\nsamples = 10\\nvalue = [4, 6]'),\n Text(0.6551724137931034, 0.11538461538461539, 'X[0] <= 0.814\\ngini = 0.245\\nsamples = 7\\nvalue = [1, 6]'),\n Text(0.5862068965517241, 0.038461538461538464, 'gini = 0.0\\nsamples = 6\\nvalue = [0, 6]'),\n Text(0.7241379310344828, 0.038461538461538464, 'gini = 0.0\\nsamples = 1\\nvalue = [1, 0]'),\n Text(0.7931034482758621, 0.11538461538461539, 'gini = 0.0\\nsamples = 3\\nvalue = [3, 0]'),\n Text(0.8620689655172413, 0.19230769230769232, 'gini = 0.0\\nsamples = 4\\nvalue = [0, 4]'),\n Text(0.9310344827586207, 0.2692307692307692, 'gini = 0.0\\nsamples = 2\\nvalue = [2, 0]'),\n Text(0.4827586206896552, 0.6538461538461539, 'gini = 0.0\\nsamples = 3\\nvalue = [0, 3]'),\n Text(0.6206896551724138, 0.8076923076923077, 'X[0] <= 1.614\\ngini = 0.08\\nsamples = 24\\nvalue = [23, 1]'),\n Text(0.5517241379310345, 0.7307692307692307, 'gini = 0.0\\nsamples = 21\\nvalue = [21, 0]'),\n Text(0.6896551724137931, 0.7307692307692307, 'X[0] <= 1.647\\ngini = 0.444\\nsamples = 3\\nvalue = [2, 1]'),\n Text(0.6206896551724138, 0.6538461538461539, 'gini = 0.0\\nsamples = 1\\nvalue = [0, 1]'),\n Text(0.7586206896551724, 0.6538461538461539, 'gini = 0.0\\nsamples = 2\\nvalue = [2, 0]'),\n Text(0.8275862068965517, 0.8846153846153846, 'X[1] <= 27.051\\ngini = 0.098\\nsamples = 58\\nvalue = [3, 55]'),\n Text(0.7586206896551724, 0.8076923076923077, 'gini = 0.0\\nsamples = 55\\nvalue = [0, 55]'),\n Text(0.896551724137931, 0.8076923076923077, 'gini = 0.0\\nsamples = 3\\nvalue = [3, 0]')]"
     },
     "execution_count": 15,
     "metadata": {},
     "output_type": "execute_result"
    },
    {
     "data": {
      "text/plain": "<Figure size 432x288 with 1 Axes>",
      "image/png": "[encoded data removed]"
     },
     "metadata": {
      "needs_background": "light"
     },
     "output_type": "display_data"
    }
   ],
   "source": [
    "from sklearn import tree\n",
    "clf = tree.DecisionTreeClassifier()\n",
    "clf = clf.fit(df[['S','K']], df['Correct or Not'])\n",
    "tree.plot_tree(clf)"
   ],
   "metadata": {
    "collapsed": false,
    "pycharm": {
     "name": "#%%\n"
    }
   }
  },
  {
   "cell_type": "code",
   "execution_count": 3,
   "outputs": [
    {
     "ename": "ModuleNotFoundError",
     "evalue": "No module named 'graphviz'",
     "output_type": "error",
     "traceback": [
      "\u001B[0;31m---------------------------------------------------------------------------\u001B[0m",
      "\u001B[0;31mModuleNotFoundError\u001B[0m                       Traceback (most recent call last)",
      "Input \u001B[0;32mIn [3]\u001B[0m, in \u001B[0;36m<cell line: 1>\u001B[0;34m()\u001B[0m\n\u001B[0;32m----> 1\u001B[0m \u001B[38;5;28;01mimport\u001B[39;00m \u001B[38;5;21;01mgraphviz\u001B[39;00m\n\u001B[1;32m      2\u001B[0m dot_data \u001B[38;5;241m=\u001B[39m tree\u001B[38;5;241m.\u001B[39mexport_graphviz(clf, out_file\u001B[38;5;241m=\u001B[39m\u001B[38;5;28;01mNone\u001B[39;00m)\n\u001B[1;32m      3\u001B[0m graph \u001B[38;5;241m=\u001B[39m graphviz\u001B[38;5;241m.\u001B[39mSource(dot_data)\n",
      "\u001B[0;31mModuleNotFoundError\u001B[0m: No module named 'graphviz'"
     ]
    }
   ],
   "source": [
    "import graphviz\n",
    "dot_data = tree.export_graphviz(clf, out_file=None)\n",
    "graph = graphviz.Source(dot_data)\n",
    "graph.render(\"iris\")"
   ],
   "metadata": {
    "collapsed": false,
    "pycharm": {
     "name": "#%%\n"
    }
   }
  },
  {
   "cell_type": "code",
   "execution_count": 9,
   "outputs": [
    {
     "data": {
      "text/plain": "0      0.609514\n1      1.968076\n2      3.264920\n3      2.040696\n4      2.594648\n         ...   \n147    0.400391\n148    0.242425\n149    0.381609\n150    0.407512\n151    0.267007\nName: S, Length: 152, dtype: float64"
     },
     "execution_count": 9,
     "metadata": {},
     "output_type": "execute_result"
    }
   ],
   "source": [
    "df['S']"
   ],
   "metadata": {
    "collapsed": false,
    "pycharm": {
     "name": "#%%\n"
    }
   }
  },
  {
   "cell_type": "code",
   "execution_count": null,
   "outputs": [],
   "source": [],
   "metadata": {
    "collapsed": false,
    "pycharm": {
     "name": "#%%\n"
    }
   }
  }
 ],
 "metadata": {
  "kernelspec": {
   "name": "python3",
   "language": "python",
   "display_name": "Python 3 (ipykernel)"
  },
  "language_info": {
   "codemirror_mode": {
    "name": "ipython",
    "version": 2
   },
   "file_extension": ".py",
   "mimetype": "text/x-python",
   "name": "python",
   "nbconvert_exporter": "python",
   "pygments_lexer": "ipython2",
   "version": "2.7.6"
  }
 },
 "nbformat": 4,
 "nbformat_minor": 0
}