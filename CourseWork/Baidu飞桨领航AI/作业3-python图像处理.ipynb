{
 "cells": [
  {
   "cell_type": "markdown",
   "metadata": {
    "collapsed": false
   },
   "source": [
    "# 作业3：Python图像处理\n",
    "###    按照下面作业要求完成项目获得对应分数，基础分只要做了就有\n",
    "\n",
    "|基础分 | 图像翻转| 图像裁剪|图像亮度变换|图像色调变换|总分|\n",
    "| -------- | -------- | -------- |-------- |------- |------- |\n",
    "| 60  \t   |    10  | 10   \t|  10    | \t10\t|100|\n",
    "\n"
   ]
  },
  {
   "cell_type": "markdown",
   "metadata": {
    "collapsed": false
   },
   "source": [
    "# 接下来都是对咱们可爱的百度小熊进行操作\n",
    "\n",
    "![](https://ai-studio-static-online.cdn.bcebos.com/df9e41fad28048b788c5da89dfbeef1287fded3835f44652949fca29f374789c)"
   ]
  },
  {
   "cell_type": "markdown",
   "metadata": {
    "collapsed": false
   },
   "source": [
    "## 1、图像翻转\n",
    "### 按照以下条件翻转图像\n",
    "- 水平翻转\n",
    "- 竖直翻转\n",
    "\n",
    "\t保存的文件名为1-1.png和1-2.png(也可以输出图片)\n",
    "### 示例:\n",
    "\n",
    "  ![](https://ai-studio-static-online.cdn.bcebos.com/b9706196330a4dc08025913d3ccad372929275831ef64a81830f9a2497db8747)\n"
   ]
  },
  {
   "cell_type": "code",
   "execution_count": 29,
   "metadata": {
    "collapsed": false
   },
   "outputs": [],
   "source": [
    "import numpy as np\r\n",
    "import matplotlib.pyplot as plt\r\n",
    "from PIL import Image\r\n",
    "\r\n",
    "path = \"baidu_bear.png\" # 图片路径\r\n",
    "image = Image.open(path)\r\n",
    "image = np.array(image)\r\n",
    "#在下面补充相关代码\r\n",
    "\r\n",
    "Himage=[]\r\n",
    "for lines in image:\r\n",
    "    Himage.append(lines[::-1])\r\n",
    "Himage=np.array(Himage)\r\n",
    "Himage = Image.fromarray(Himage)\r\n",
    "Himage.save('1-1.png')\r\n",
    "\r\n",
    "Timage=image[::-1]\r\n",
    "Timage = Image.fromarray(Timage)\r\n",
    "Timage.save('1-2.png')"
   ]
  },
  {
   "cell_type": "markdown",
   "metadata": {
    "collapsed": false
   },
   "source": [
    "## 2、图像裁剪\n",
    "### 按照以下条件裁剪图像\n",
    "\n",
    "- 长度方向\n",
    "- 宽度方向\n",
    "- 俩个方向同时裁剪\n",
    "- 随机裁剪的图片（大小设定随意）\n",
    "\n",
    "\t保存的文件名为2-1.png、2-2.png、2-3.png、2-4.png(也可以输出图片)\n",
    "    ### 示例:\n",
    "    \n",
    "    \n",
    "    ![](https://ai-studio-static-online.cdn.bcebos.com/524ee4e76c7848dc86c23bb0c9ff8fe634c262c1a5ee4b53b85b0d9ff836ec90)\n",
    "    "
   ]
  },
  {
   "cell_type": "code",
   "execution_count": 45,
   "metadata": {
    "collapsed": false
   },
   "outputs": [],
   "source": [
    "import numpy as np\r\n",
    "import matplotlib.pyplot as plt\r\n",
    "from PIL import Image\r\n",
    "\r\n",
    "path = \"baidu_bear.png\" # 图片路径\r\n",
    "image = Image.open(path) #读取图片\r\n",
    "image = np.array(image)\r\n",
    "shape=image.shape\r\n",
    "\r\n",
    "\r\n",
    "#在下面补充相关代码\r\n",
    "length=int(0.5*shape[1])\r\n",
    "height=int(0.5*shape[0])\r\n",
    "\r\n",
    "image0=image[:,height:]\r\n",
    "image0=Image.fromarray(image0)\r\n",
    "image0.save('2-1.png')\r\n",
    "\r\n",
    "image1=image[length:]\r\n",
    "image1=Image.fromarray(image1)\r\n",
    "image1.save('2-2.png')\r\n",
    "\r\n",
    "image3=image[100:,100:]\r\n",
    "image3=Image.fromarray(image3)\r\n",
    "image3.save('2-3.png')\r\n",
    "\r\n",
    "from numpy import random\r\n",
    "h1=random.randint(0,height)\r\n",
    "h2=random.randint(height,2*height-1)\r\n",
    "\r\n",
    "l1=random.randint(0,length)\r\n",
    "l2=random.randint(length,2*length-1)\r\n",
    "image4=image[h1:h2,l1:l2]\r\n",
    "image4=Image.fromarray(image4)\r\n",
    "image4.save('2-4.png')"
   ]
  },
  {
   "cell_type": "markdown",
   "metadata": {
    "collapsed": false
   },
   "source": [
    "## 3、图像亮度变换\n",
    "### 按照以下要求调整图像亮度\n",
    "- 一半亮度\n",
    "- 两倍亮度\n",
    "\n",
    "\t保存的文件名为3-1.png、3-2.png(也可以输出图片)\n",
    "  ###  示例:\n",
    "\t![](https://ai-studio-static-online.cdn.bcebos.com/3f9c5373434d4247a702f3d13e712c67032cb3490e90434b8eb0b628e32ec164)\n",
    "\n",
    "  "
   ]
  },
  {
   "cell_type": "code",
   "execution_count": 51,
   "metadata": {
    "collapsed": false
   },
   "outputs": [],
   "source": [
    "import numpy as np\r\n",
    "import matplotlib.pyplot as plt\r\n",
    "from PIL import Image\r\n",
    "\r\n",
    "path = \"baidu_bear.png\" # 图片路径\r\n",
    "image = Image.open(path) #读取图片\r\n",
    "image = np.array(image)\r\n",
    "#在下面补充相关代码\r\n",
    "image1=image*0.5\r\n",
    "image1=Image.fromarray(np.uint8(np.array(image1)))\r\n",
    "image1.save('3-1.png')\r\n",
    "\r\n",
    "image2=image*2\r\n",
    "image2=Image.fromarray(np.uint8(np.array(image2)))\r\n",
    "image2.save('3-2.png')"
   ]
  },
  {
   "cell_type": "markdown",
   "metadata": {
    "collapsed": false
   },
   "source": [
    "## 4、图像色调变换\n",
    "### 按照以下要求调整图像色调\n",
    "- 色调取反\n",
    "- 转成灰度图\n",
    "- 对灰度图色调取反\n",
    "- 增强饱和度\n",
    "\n",
    "\t保存的文件名为4-1.png、4-2.png、4-3.png、4-4.png(也可以输出图片)\n",
    "  ###  示例(有一点小惊悚):\n",
    "  ![](https://ai-studio-static-online.cdn.bcebos.com/ad01befe405b4a62969a343de806a80fd244ccd55ac2480aad80f37524b09572)\n",
    "  \n"
   ]
  },
  {
   "cell_type": "code",
   "execution_count": 60,
   "metadata": {
    "collapsed": false
   },
   "outputs": [],
   "source": [
    "import numpy as np\r\n",
    "import matplotlib.pyplot as plt\r\n",
    "from PIL import Image\r\n",
    "\r\n",
    "path = \"baidu_bear.png\" # 图片路径\r\n",
    "image = Image.open(path) #读取图片\r\n",
    "image = np.array(image)\r\n",
    "#在下面补充相关代码\r\n",
    "\r\n",
    "image3=[]\r\n",
    "for line in image:\r\n",
    "    l=[]\r\n",
    "    for pixel in line:\r\n",
    "        l.append(255-pixel)\r\n",
    "    image3.append(l)\r\n",
    "image3=Image.fromarray(np.array(image3))\r\n",
    "image3.save('4-1.png')\r\n",
    "\r\n",
    "image4=[]\r\n",
    "image5=[]\r\n",
    "for line in image:\r\n",
    "    l1=[]\r\n",
    "    l2=[]\r\n",
    "    for pixel in line:\r\n",
    "        g=pixel[0]*0.299+pixel[1]*0.587+pixel[2]*0.114\r\n",
    "        l1.append(g)\r\n",
    "        l2.append(255-g)\r\n",
    "    image4.append(l1)\r\n",
    "    image5.append(l2)\r\n",
    "image4=Image.fromarray(np.array(image4))\r\n",
    "image4 = image4.convert(\"L\")\r\n",
    "image4.save('4-2.png')\r\n",
    "\r\n",
    "image5=Image.fromarray(np.array(image5))\r\n",
    "image5 = image5.convert(\"L\")\r\n",
    "image5.save('4-3.png')\r\n",
    "\r\n",
    "image6=[]\r\n",
    "for line in image:\r\n",
    "    l=[]\r\n",
    "    for pixel in line:\r\n",
    "        l.append(pixel-min(pixel))\r\n",
    "    image6.append(l)\r\n",
    "image6=Image.fromarray(np.array(image6))\r\n",
    "image6.save('4-4.png')"
   ]
  },
  {
   "cell_type": "markdown",
   "metadata": {
    "collapsed": false
   },
   "source": [
    "请点击[此处](https://ai.baidu.com/docs#/AIStudio_Project_Notebook/a38e5576)查看本环境基本用法.  <br>\n",
    "Please click [here ](https://ai.baidu.com/docs#/AIStudio_Project_Notebook/a38e5576) for more detailed instructions. "
   ]
  }
 ],
 "metadata": {
  "kernelspec": {
   "display_name": "Python 3",
   "language": "python",
   "name": "py35-paddle1.2.0"
  },
  "language_info": {
   "codemirror_mode": {
    "name": "ipython",
    "version": 3
   },
   "file_extension": ".py",
   "mimetype": "text/x-python",
   "name": "python",
   "nbconvert_exporter": "python",
   "pygments_lexer": "ipython3",
   "version": "3.7.4"
  }
 },
 "nbformat": 4,
 "nbformat_minor": 1
}
