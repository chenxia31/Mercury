{
 "cells": [
  {
   "cell_type": "markdown",
   "metadata": {
    "collapsed": false
   },
   "source": [
    "### 这题很简单，对随机生成并且打乱的arr从小到大依次进行冒泡排序，快速排序，插入排序和希尔排序算法的补全，并跑通代码，保留log信息（完成一种排序可得25分）\n",
    "\n",
    "温馨提示：如使用sorded()等函数，按照0分计。\n"
   ]
  },
  {
   "cell_type": "code",
   "execution_count": 1,
   "metadata": {
    "collapsed": false
   },
   "outputs": [
    {
     "name": "stdout",
     "output_type": "stream",
     "text": [
      "[ 0  1  2  3  4  5  6  7  8  9 10 11 12 13 14 15 16 17 18 19]\n"
     ]
    }
   ],
   "source": [
    "# 随机生成\n",
    "import numpy as np\n",
    "\n",
    "#请把冒泡排序算法补充完整\n",
    "def bubble_sort(nums):\n",
    "    '''\n",
    "    代码补充\n",
    "    '''\n",
    "    for i in range(len(nums)):\n",
    "        for j in range(len(nums)-i-1):\n",
    "            if nums[j]>nums[j+1]:\n",
    "                nums[j],nums[j+1]=nums[j+1],nums[j]\n",
    "    return nums\n",
    "if __name__ == '__main__':\n",
    "    # 打乱顺序并随机生成\n",
    "    nums=np.random.permutation(20)\n",
    "    print(bubble_sort(nums))"
   ]
  },
  {
   "cell_type": "code",
   "execution_count": 4,
   "metadata": {
    "collapsed": false
   },
   "outputs": [
    {
     "name": "stdout",
     "output_type": "stream",
     "text": [
      "[ 0  1  2  3  4  5  6  7  8  9 10 11 12 13 14 15 16 17 18 19]\n"
     ]
    }
   ],
   "source": [
    "# 随机生成\r\n",
    "import numpy as np\r\n",
    "\r\n",
    "#请把快速排序算法补充完整\r\n",
    "def quickSort(arr,low,high):\r\n",
    "    '''\r\n",
    "    代码补充\r\n",
    "    '''\r\n",
    "    def reSort(arr,low,high):\r\n",
    "        res=low-1\r\n",
    "\r\n",
    "        for j in range(low,high+1):\r\n",
    "            if arr[j]<=arr[high]:\r\n",
    "                res+=1\r\n",
    "                arr[res],arr[j]=arr[j],arr[res]\r\n",
    "        return res\r\n",
    "    \r\n",
    "    def random_index(arr,low,high):\r\n",
    "        mid=low+(high-low)//2\r\n",
    "        arr[high],arr[mid]=arr[mid],arr[high]\r\n",
    "        return reSort(arr,low,high)\r\n",
    "    \r\n",
    "    if low<high:\r\n",
    "        index=random_index(arr,low,high)\r\n",
    "        quickSort(arr,low,index-1)\r\n",
    "        quickSort(arr,index+1,high)\r\n",
    "    return arr\r\n",
    "\r\n",
    "if __name__ == '__main__':\r\n",
    "    nums=np.random.permutation(20)\r\n",
    "    import sys   \r\n",
    "    sys.setrecursionlimit(1000) \r\n",
    "    print(quickSort(nums,0,len(nums)-1))"
   ]
  },
  {
   "cell_type": "code",
   "execution_count": 18,
   "metadata": {
    "collapsed": false
   },
   "outputs": [
    {
     "name": "stdout",
     "output_type": "stream",
     "text": [
      "[ 0  1  2  3  4  5  6  7  8  9 10 11 12 13 14 15 16 17 18 19]\n"
     ]
    }
   ],
   "source": [
    "# 随机生成\r\n",
    "import numpy as np\r\n",
    "\r\n",
    "#请把希尔排序算法补充完整\r\n",
    "def shellSort(arr):\r\n",
    "    '''\r\n",
    "    代码补充\r\n",
    "    '''\r\n",
    "    size=len(arr)\r\n",
    "    gap=size//2\r\n",
    "    while gap>0:\r\n",
    "        for i in range(gap,size):\r\n",
    "            temp=arr[i]\r\n",
    "            j=i\r\n",
    "            while j>=gap and arr[j-gap]>temp:\r\n",
    "                arr[j]=arr[j-gap]\r\n",
    "                j-=gap\r\n",
    "            arr[j]=temp\r\n",
    "        gap=gap//2\r\n",
    "    return arr\r\n",
    "if __name__ == '__main__':\r\n",
    "    \r\n",
    "    nums=np.random.permutation(20)\r\n",
    "    print(shellSort(nums))"
   ]
  },
  {
   "cell_type": "code",
   "execution_count": 19,
   "metadata": {
    "collapsed": false
   },
   "outputs": [
    {
     "name": "stdout",
     "output_type": "stream",
     "text": [
      "[ 0  1  2  3  4  5  6  7  8  9 10 11 12 13 14 15 16 17 18 19]\n"
     ]
    }
   ],
   "source": [
    "# 随机生成\r\n",
    "import numpy as np\r\n",
    "\r\n",
    "#请把插入排序算法补充完整\r\n",
    "def insertionSort(arr):\r\n",
    "    '''\r\n",
    "    代码补充\r\n",
    "    '''\r\n",
    "    for i in range(1,len(arr)):\r\n",
    "        temp=arr[i]\r\n",
    "        j=i\r\n",
    "        while j>0 and arr[j-1]>temp:\r\n",
    "            arr[j]=arr[j-1]\r\n",
    "            j-=1\r\n",
    "        arr[j]=temp\r\n",
    "    return arr\r\n",
    "if __name__ == '__main__':\r\n",
    "    \r\n",
    "    nums=np.random.permutation(20)\r\n",
    "    print(insertionSort(nums))  "
   ]
  }
 ],
 "metadata": {
  "kernelspec": {
   "display_name": "Python 3",
   "language": "python",
   "name": "py35-paddle1.2.0"
  },
  "language_info": {
   "codemirror_mode": {
    "name": "ipython",
    "version": 3
   },
   "file_extension": ".py",
   "mimetype": "text/x-python",
   "name": "python",
   "nbconvert_exporter": "python",
   "pygments_lexer": "ipython3",
   "version": "3.7.4"
  }
 },
 "nbformat": 4,
 "nbformat_minor": 1
}
