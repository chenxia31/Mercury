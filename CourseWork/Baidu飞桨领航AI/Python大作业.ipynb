{
 "cells": [
  {
   "cell_type": "markdown",
   "metadata": {
    "collapsed": false
   },
   "source": [
    "\n",
    "\n",
    "# 第一题（30分）\n",
    "\n",
    "数据如下： \n",
    "\n",
    "```bash\n",
    "stu1.txt 孙同学,2020-5-21,20,'男',77,56,77,76,92,58,-91,84,69,-91\n",
    "stu2.txt 赵同学,2020-11-3,24,'女',65,68,72,95,-81,71,86,91,57,91\n",
    "stu3.txt 王同学,2021-8-7,25,'男',87,78,90,-76,88,47,100,65,69,100 \n",
    "stu4.txt 李同学,2021-8-10,29,'男',92,54,85,71,-91,68,77,68,95,95\n",
    "```\n",
    "\n",
    "以上四个txt文档在work路径下可以找到。\n",
    "\n",
    "定义Student类，包括name、dob、age、gender和score属性，包括top3方法用来返回学生的最大的3个成绩（可重复）、sanitize方法用来将负的分数变为正的分数，负的分数可能是输入错误。声明stu_list对象组数用于存储所有的学生对象。最后输出所有的学生信息包括姓名、生日、年龄、性别、最高的3个分数。\n",
    "\n",
    "第一题的输出结果如下，供参考：\n",
    "\n",
    "![](https://ai-studio-static-online.cdn.bcebos.com/2a1b5032bcc740b6a681e50497c2b94452f39a624a044ccd9718d2edd1269b06)\n"
   ]
  },
  {
   "cell_type": "code",
   "execution_count": 12,
   "metadata": {
    "collapsed": false
   },
   "outputs": [
    {
     "name": "stdout",
     "output_type": "stream",
     "text": [
      "4365436.ipynb  \u001b[0m\u001b[34;42mdata\u001b[0m/  \u001b[01;34mwork\u001b[0m/\r\n"
     ]
    }
   ],
   "source": [
    "ls"
   ]
  },
  {
   "cell_type": "code",
   "execution_count": 30,
   "metadata": {
    "collapsed": false
   },
   "outputs": [
    {
     "name": "stdout",
     "output_type": "stream",
     "text": [
      "姓名: 孙同学 生日:2020-5-21 年龄:20 性别:'男' 分数:[91, 91, 92]\n",
      "姓名: 赵同学 生日:2020-11-3 年龄:24 性别:'女' 分数:[91, 91, 95]\n",
      "姓名: 王同学 生日:2021-8-7 年龄:25 性别:'男' 分数:[90, 100, 100]\n",
      "姓名: 李同学 生日:2021-8-10 年龄:29 性别:'男' 分数:[92, 95, 95]\n"
     ]
    }
   ],
   "source": [
    "# 请在此处完成代码\n",
    "class Student:\n",
    "    def __init__(self,name='',dob='',age=0,gender='',score=[]):\n",
    "        self.name=name\n",
    "        self.dob=dob\n",
    "        self.age=age\n",
    "        self.gender=gender\n",
    "        self.score=score\n",
    "        self.top3m=score\n",
    "    \n",
    "    def top3(self):\n",
    "        res=sorted(self.score)\n",
    "        return res[-3:]\n",
    "    \n",
    "    def sanitize(self,value):\n",
    "        return abs(int(value))\n",
    "\n",
    "nameList=['work/stu'+str(i)+'.txt' for i in range(1,5)]\n",
    "stu_list=[]\n",
    "for stu in nameList:\n",
    "    with open(stu,'r') as f:\n",
    "        dataStr=f.read()\n",
    "        dataList=dataStr.split(',')\n",
    "        newS=Student()\n",
    "        newS.name=dataList[0]\n",
    "        newS.dob=dataList[1]\n",
    "        newS.age=int(dataList[2])\n",
    "        newS.gender=dataList[3]\n",
    "        newS.score=[]\n",
    "        for score in dataList[4:]:\n",
    "            newS.score.append(newS.sanitize(score))\n",
    "        newS.top3m=newS.top3()\n",
    "        stu_list.append(newS)\n",
    "\n",
    "for stu in stu_list:\n",
    "    print('姓名: {0.name} 生日:{0.dob} 年龄:{0.age} 性别:{0.gender} 分数:{0.top3m}'.format(stu))  # \"0\" 是可选的"
   ]
  },
  {
   "cell_type": "markdown",
   "metadata": {
    "collapsed": false
   },
   "source": [
    "\n",
    "# 第二题（30分）\n",
    "\n",
    "数据格式如下：\n",
    "```bash\n",
    "stu5.txt 特长同学,2020-10-5,20,'男',180,87,98,77,76,92,58,-76,84,69,-47\n",
    "stu6.txt 特长同学,2020-10-6,20,'女',230,76,48,82,88,92,58,-91,84,69,-68\n",
    "```\n",
    "\n",
    "以上两个txt文档在work路径下可以找到。\n",
    "\n",
    "定义Spostudent、Artstudent为Student的子类，在子类的属性里面新增了spe为特长分数。Spostudent包括的top3方法返回的是最低的3个得分（可重复），Artstudent包括top3方法返回的是最高的3个得分（可重复），最后使用多态的方式输出2个特长同学的姓名、生日、年龄、性别、分数、特长分。\n",
    "\n",
    "第二题的输出结果如下，供参考：\n",
    "\n",
    "![](https://ai-studio-static-online.cdn.bcebos.com/585b454f8c2f45e1a08dc9a7fc7c017c596974c8ca91449298c2b72f88c99a03)"
   ]
  },
  {
   "cell_type": "code",
   "execution_count": 33,
   "metadata": {
    "collapsed": false
   },
   "outputs": [
    {
     "name": "stdout",
     "output_type": "stream",
     "text": [
      "姓名: 特长同学 生日:2020-10-5 年龄:20 性别:'男' 分数:[56, 58, 69] 特长分:180\n",
      "姓名: 特长同学 生日:2020-10-6 年龄:20 性别:'女' 分数:[91, 91, 92] 特长分:230\n"
     ]
    }
   ],
   "source": [
    "# 请在此处完成代码\n",
    "\n",
    "\n",
    "class Spostudent(Student):\n",
    "    def __init__(self):\n",
    "        self.spe=0\n",
    "    \n",
    "    def top3(self):\n",
    "        # 返回最低的分数\n",
    "        res=sorted(self.score)\n",
    "        return res[0:3]\n",
    "    def info(self):\n",
    "        print(f'姓名: {self.name} 生日:{self.dob} 年龄:{self.age} 性别:{self.gender} 分数:{self.top3m} 特长分:{self.spe}') \n",
    "\n",
    "class Artstudent(Student):\n",
    "    def __init__(self):\n",
    "        self.spe=0\n",
    "    def top3(self):\n",
    "        # 返回最高的三个分数\n",
    "        res=sorted(self.score)\n",
    "        return res[-3:]\n",
    "    def info(self):\n",
    "        print(f'姓名: {self.name} 生日:{self.dob} 年龄:{self.age} 性别:{self.gender} 分数:{self.top3m} 特长分:{self.spe}') \n",
    "\n",
    "with open('work/stu5.txt','r') as f:\n",
    "    dataStr=f.read()\n",
    "    dataList=dataStr.split(',')\n",
    "    newS=Spostudent()\n",
    "    newS.name=dataList[0]\n",
    "    newS.dob=dataList[1]\n",
    "    newS.age=int(dataList[2])\n",
    "    newS.gender=dataList[3]\n",
    "    newS.spe=dataList[4]\n",
    "    newS.score=[]\n",
    "    for score in dataList[5:]:\n",
    "        newS.score.append(newS.sanitize(score))\n",
    "    newS.top3m=newS.top3()\n",
    "    newS.info()\n",
    "with open('work/stu6.txt','r') as f:\n",
    "    dataStr=f.read()\n",
    "    dataList=dataStr.split(',')\n",
    "    newS=Artstudent()\n",
    "    newS.name=dataList[0]\n",
    "    newS.dob=dataList[1]\n",
    "    newS.age=int(dataList[2])\n",
    "    newS.gender=dataList[3]\n",
    "    newS.spe=dataList[4]\n",
    "    newS.score=[]\n",
    "    for score in dataList[5:]:\n",
    "        newS.score.append(newS.sanitize(score))\n",
    "    newS.top3m=newS.top3()\n",
    "    newS.info()"
   ]
  },
  {
   "cell_type": "markdown",
   "metadata": {
    "collapsed": false
   },
   "source": [
    "请点击[此处](https://ai.baidu.com/docs#/AIStudio_Project_Notebook/a38e5576)查看本环境基本用法.  <br>\n",
    "Please click [here ](https://ai.baidu.com/docs#/AIStudio_Project_Notebook/a38e5576) for more detailed instructions. "
   ]
  }
 ],
 "metadata": {
  "kernelspec": {
   "display_name": "Python 3",
   "language": "python",
   "name": "py35-paddle1.2.0"
  },
  "language_info": {
   "codemirror_mode": {
    "name": "ipython",
    "version": 3
   },
   "file_extension": ".py",
   "mimetype": "text/x-python",
   "name": "python",
   "nbconvert_exporter": "python",
   "pygments_lexer": "ipython3",
   "version": "3.7.4"
  }
 },
 "nbformat": 4,
 "nbformat_minor": 1
}
