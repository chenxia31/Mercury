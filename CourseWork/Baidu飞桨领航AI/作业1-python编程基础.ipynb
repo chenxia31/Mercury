{
 "cells": [
  {
   "cell_type": "markdown",
   "metadata": {
    "collapsed": false
   },
   "source": [
    "# 作业1：Python编程基础\n",
    "\n",
    "完成作业即可拿到60分基础分   \n",
    "有个别有问题可拿到80分    \n",
    "完整完成即可拿到100分    \n",
    "\n",
    "\n",
    "## 按要求补全下列代码\n",
    "\n",
    "### 1. 输入输出学习\n",
    "\n",
    "输入两个整数，并计算二者的加减乘除的结果"
   ]
  },
  {
   "cell_type": "code",
   "execution_count": 1,
   "metadata": {
    "collapsed": false
   },
   "outputs": [
    {
     "name": "stdout",
     "output_type": "stream",
     "text": [
      "请输入第一个整数: 请输入第二个整数: c =  0.6666666666666666\n"
     ]
    }
   ],
   "source": [
    "a = input('请输入第一个整数: ')\r\n",
    "b = input('请输入第二个整数: ')\r\n",
    "\r\n",
    "# 分别把 a、b 转换成整数\r\n",
    "a=int(a)\r\n",
    "b=int(b)\r\n",
    "c=a+b\r\n",
    "c=a-b\r\n",
    "c=a*b\r\n",
    "c=a/b\r\n",
    "\r\n",
    "# 计算 a、b 的和、差、积、商，赋值给变量c\r\n",
    "\r\n",
    "# 打印c\r\n",
    "print(\"c = \", c)"
   ]
  },
  {
   "cell_type": "markdown",
   "metadata": {
    "collapsed": false
   },
   "source": [
    "### 2. 条件判断\n",
    "\n",
    "输入两个整数，如果两个整数之和小于100，则输出 '小于100'，否则输出 '不小于100'"
   ]
  },
  {
   "cell_type": "code",
   "execution_count": 2,
   "metadata": {
    "collapsed": false
   },
   "outputs": [
    {
     "name": "stdout",
     "output_type": "stream",
     "text": [
      "请输入第一个整数: 请输入第二个整数: 小于100\n"
     ]
    }
   ],
   "source": [
    "a = input('请输入第一个整数: ')\r\n",
    "b = input('请输入第二个整数: ')\r\n",
    "\r\n",
    "# 分别把 a、b 转换成整数\r\n",
    "a=int(a)\r\n",
    "b=int(b)\r\n",
    "\r\n",
    "\r\n",
    "# 计算 a、b 的和，赋值给变量c\r\n",
    "c=a+b\r\n",
    "\r\n",
    "# 判断c是否小于100，按要求输出\r\n",
    "if c<100:\r\n",
    "    print(\"小于100\")\r\n",
    "else:\r\n",
    "    print(\"不小于100\")"
   ]
  },
  {
   "cell_type": "markdown",
   "metadata": {
    "collapsed": false
   },
   "source": [
    "### 3. 列表学习（数组）\n",
    "\n",
    "1.创建一个含有元素1，2，4，8，16，32的列表\n",
    "\n",
    "尽可能的**写多种**的方法实现（两种以上该问满分）\n",
    "\n",
    "2.分别完成以下操作（在原列表基础上）\n",
    "\n",
    "·  输出第2个元素   \n",
    "·  删除第2个元素   \n",
    "·  更改第2个元素为0   "
   ]
  },
  {
   "cell_type": "code",
   "execution_count": 8,
   "metadata": {
    "collapsed": false
   },
   "outputs": [
    {
     "name": "stdout",
     "output_type": "stream",
     "text": [
      "[1, 2, 4, 8, 16, 32]\n",
      "2\n",
      "[1, 4, 8, 16, 32]\n",
      "[1, 0, 8, 16, 32]\n"
     ]
    }
   ],
   "source": [
    "# 列表统一命名为L\r\n",
    "# 方法一：\r\n",
    "L = [2**i for i in range(0,6)]\r\n",
    "print(L)\r\n",
    "# 方法二：\r\n",
    "L = [1,2,4,8,16,32]\r\n",
    "\r\n",
    "print(L[1])\r\n",
    "L.pop(1)\r\n",
    "print(L)\r\n",
    "L[1]=0\r\n",
    "print(L)\r\n",
    "\r\n",
    "\r\n",
    "\r\n",
    "\r\n",
    "\r\n",
    "\r\n"
   ]
  },
  {
   "cell_type": "markdown",
   "metadata": {
    "collapsed": false
   },
   "source": [
    "### 4. 斐波那契数列\n",
    "\n",
    "**资源限制**\n",
    "\n",
    "时间限制：1.0s 内存限制：256.0MB\n",
    "\n",
    "想要拿满分的话，资源限制一定要特别注意！\n",
    "\n",
    "**问题描述**\n",
    "\n",
    "Fibonacci数列的递推公式为：$F_n$ = $F_(n−1)$ + $F_(n−2)$ 其中$F_1$=$F_{2}$ = 1 \n",
    "\n",
    "当n比较大时，$F_n$也非常大，现在我们想知道，$F_n$除以10007的余数是多少。\n",
    "\n",
    "**输入格式**\n",
    "\n",
    "输入包含一个整数n。\n",
    "\n",
    "**输出格式**\n",
    "\n",
    "输出一行，包含一个整数，表示Fn除以10007的余数。"
   ]
  },
  {
   "cell_type": "code",
   "execution_count": 20,
   "metadata": {
    "collapsed": false
   },
   "outputs": [
    {
     "name": "stdout",
     "output_type": "stream",
     "text": [
      "101\n"
     ]
    }
   ],
   "source": [
    "n = int(input())\r\n",
    "for i in range(n):\r\n",
    "\ta, b = b, a + b\r\n",
    "result=a%10007\r\n",
    "print(result)"
   ]
  }
 ],
 "metadata": {
  "kernelspec": {
   "display_name": "Python 3",
   "language": "python",
   "name": "py35-paddle1.2.0"
  },
  "language_info": {
   "codemirror_mode": {
    "name": "ipython",
    "version": 3
   },
   "file_extension": ".py",
   "mimetype": "text/x-python",
   "name": "python",
   "nbconvert_exporter": "python",
   "pygments_lexer": "ipython3",
   "version": "3.7.4"
  }
 },
 "nbformat": 4,
 "nbformat_minor": 1
}
