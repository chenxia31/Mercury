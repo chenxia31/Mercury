{
 "cells": [
  {
   "cell_type": "code",
   "execution_count": null,
   "metadata": {},
   "outputs": [],
   "source": []
  },
  {
   "cell_type": "markdown",
   "metadata": {},
   "source": [
    "## Overview of perceptron\n",
    "\n",
    "在机器学习中，感知机是一种二分类的线性分类模型，属于surprised learning algorithm。它的input是样本的特征向量，output为类别（这里取-1，1）\n",
    "\n",
    "感知机的学习算法具有简单而易于实现的优点，分为原始形式和对偶形式，感知机预测使用学习到的模型对于新的模型进行预测，属于discriminate模型。之后我们可以看一下如何用Paddle来实现感知机的过程"
   ]
  },
  {
   "cell_type": "markdown",
   "metadata": {},
   "source": [
    "## Make perceptron with Paddle"
   ]
  },
  {
   "cell_type": "markdown",
   "metadata": {},
   "source": [
    "### 生成数据"
   ]
  },
  {
   "cell_type": "code",
   "execution_count": 43,
   "metadata": {},
   "outputs": [
    {
     "name": "stdout",
     "output_type": "stream",
     "text": [
      "2.3.2\n"
     ]
    }
   ],
   "source": [
    "import paddle\n",
    "import numpy as np\n",
    "import matplotlib.pyplot as plt\n",
    "print(paddle.__version__)"
   ]
  },
  {
   "cell_type": "code",
   "execution_count": 44,
   "metadata": {},
   "outputs": [
    {
     "name": "stdout",
     "output_type": "stream",
     "text": [
      "(3, 100)\n"
     ]
    }
   ],
   "source": [
    "np.random.seed(0)\n",
    "num=100 # 样本的数量num\n",
    "\n",
    "# 生成数据集 x1、x2、y（0/1）\n",
    "x1=np.random.normal(6,1,size=(num))\n",
    "x2=np.random.normal(3,1,size=(num))\n",
    "y=np.ones(num)\n",
    "class1=np.array([x1,x2,y])\n",
    "x1=np.random.normal(3,1,size=(num))\n",
    "x2=np.random.normal(6,1,size=(num))\n",
    "y=np.ones(num)*(-1)\n",
    "class2=np.array([x1,x2,y])\n",
    "print(class1.shape)\n"
   ]
  },
  {
   "cell_type": "code",
   "execution_count": 45,
   "metadata": {},
   "outputs": [
    {
     "data": {
      "text/plain": [
       "<matplotlib.collections.PathCollection at 0x282738550>"
      ]
     },
     "execution_count": 45,
     "metadata": {},
     "output_type": "execute_result"
    },
    {
     "data": {
      "image/png": "[encoded data removed]",
      "text/plain": [
       "<Figure size 432x288 with 1 Axes>"
      ]
     },
     "metadata": {
      "needs_background": "light"
     },
     "output_type": "display_data"
    }
   ],
   "source": [
    "class1=class1.T\n",
    "class2=class2.T\n",
    "plt.scatter(class1[:,0],class2[:,0])\n",
    "plt.scatter(class2[:,0],class2[:,1])"
   ]
  },
  {
   "cell_type": "code",
   "execution_count": 46,
   "metadata": {},
   "outputs": [
    {
     "name": "stdout",
     "output_type": "stream",
     "text": [
      "[[ 7.76405235  4.8831507   1.        ]\n",
      " [ 6.40015721  1.65224094  1.        ]\n",
      " [ 6.97873798  1.729515    1.        ]\n",
      " [ 8.2408932   3.96939671  1.        ]\n",
      " [ 7.86755799  1.82687659  1.        ]\n",
      " [ 5.02272212  4.94362119  1.        ]\n",
      " [ 6.95008842  2.58638102  1.        ]\n",
      " [ 5.84864279  2.25254519  1.        ]\n",
      " [ 5.89678115  4.92294203  1.        ]\n",
      " [ 6.4105985   4.48051479  1.        ]\n",
      " [ 6.14404357  4.86755896  1.        ]\n",
      " [ 7.45427351  3.90604466  1.        ]\n",
      " [ 6.76103773  2.13877431  1.        ]\n",
      " [ 6.12167502  4.91006495  1.        ]\n",
      " [ 6.44386323  2.73199663  1.        ]\n",
      " [ 6.33367433  3.8024564   1.        ]\n",
      " [ 7.49407907  3.94725197  1.        ]\n",
      " [ 5.79484174  2.84498991  1.        ]\n",
      " [ 6.3130677   3.61407937  1.        ]\n",
      " [ 5.14590426  3.92220667  1.        ]\n",
      " [ 3.44701018  3.37642553  1.        ]\n",
      " [ 6.6536186   1.90059921  1.        ]\n",
      " [ 6.8644362   3.29823817  1.        ]\n",
      " [ 5.25783498  4.3263859   1.        ]\n",
      " [ 8.26975462  2.30543214  1.        ]\n",
      " [ 4.54563433  2.85036546  1.        ]\n",
      " [ 6.04575852  2.56484645  1.        ]\n",
      " [ 5.81281615  4.84926373  1.        ]\n",
      " [ 7.53277921  3.67229476  1.        ]\n",
      " [ 7.46935877  3.40746184  1.        ]\n",
      " [ 6.15494743  2.23008393  1.        ]\n",
      " [ 6.37816252  3.53924919  1.        ]\n",
      " [ 5.11221425  2.32566734  1.        ]\n",
      " [ 4.01920353  3.03183056  1.        ]\n",
      " [ 5.65208785  2.36415392  1.        ]\n",
      " [ 6.15634897  3.67643329  1.        ]\n",
      " [ 7.23029068  3.57659082  1.        ]\n",
      " [ 7.20237985  2.79170124  1.        ]\n",
      " [ 5.61267318  3.39600671  1.        ]\n",
      " [ 5.69769725  1.90693849  1.        ]\n",
      " [ 4.95144703  1.50874241  1.        ]\n",
      " [ 4.57998206  3.4393917   1.        ]\n",
      " [ 4.29372981  3.1666735   1.        ]\n",
      " [ 7.9507754   3.63503144  1.        ]\n",
      " [ 5.49034782  5.38314477  1.        ]\n",
      " [ 5.5619257   3.94447949  1.        ]\n",
      " [ 4.74720464  2.08717777  1.        ]\n",
      " [ 6.77749036  4.11701629  1.        ]\n",
      " [ 4.38610215  1.68409259  1.        ]\n",
      " [ 5.78725972  2.5384154   1.        ]\n",
      " [ 5.10453344  2.93175839  1.        ]\n",
      " [ 6.3869025   4.71334272  1.        ]\n",
      " [ 5.48919486  2.25524518  1.        ]\n",
      " [ 4.81936782  2.17356146  1.        ]\n",
      " [ 5.97181777  2.90154748  1.        ]\n",
      " [ 6.42833187  2.33652171  1.        ]\n",
      " [ 6.06651722  4.12663592  1.        ]\n",
      " [ 6.3024719   1.92006849  1.        ]\n",
      " [ 5.36567791  1.85253135  1.        ]\n",
      " [ 5.63725883  2.56217996  1.        ]\n",
      " [ 5.32753955  2.50196755  1.        ]\n",
      " [ 5.64044684  4.92953205  1.        ]\n",
      " [ 5.18685372  3.94942081  1.        ]\n",
      " [ 4.2737174   3.08755124  1.        ]\n",
      " [ 6.17742614  1.77456448  1.        ]\n",
      " [ 5.59821906  3.84436298  1.        ]\n",
      " [ 4.36980165  1.99978465  1.        ]\n",
      " [ 6.46278226  1.4552289   1.        ]\n",
      " [ 5.09270164  4.18802979  1.        ]\n",
      " [ 6.0519454   3.31694261  1.        ]\n",
      " [ 6.72909056  3.92085882  1.        ]\n",
      " [ 6.12898291  3.31872765  1.        ]\n",
      " [ 7.13940068  3.85683061  1.        ]\n",
      " [ 4.76517418  2.34897441  1.        ]\n",
      " [ 6.40234164  1.96575716  1.        ]\n",
      " [ 5.31518991  3.68159452  1.        ]\n",
      " [ 5.12920285  2.19659034  1.        ]\n",
      " [ 5.42115034  2.31045022  1.        ]\n",
      " [ 5.68844747  2.5444675   1.        ]\n",
      " [ 6.05616534  3.01747916  1.        ]\n",
      " [ 4.83485016  2.64600609  1.        ]\n",
      " [ 6.90082649  1.62504871  1.        ]\n",
      " [ 6.46566244  2.3563816   1.        ]\n",
      " [ 4.46375631  0.77659685  1.        ]\n",
      " [ 7.48825219  3.62523145  1.        ]\n",
      " [ 7.89588918  1.39794234  1.        ]\n",
      " [ 7.17877957  1.89561666  1.        ]\n",
      " [ 5.82007516  3.05216508  1.        ]\n",
      " [ 4.92924738  2.260437    1.        ]\n",
      " [ 7.05445173  4.5430146   1.        ]\n",
      " [ 5.59682305  1.70714309  1.        ]\n",
      " [ 7.22244507  3.26705087  1.        ]\n",
      " [ 6.20827498  2.96071718  1.        ]\n",
      " [ 6.97663904  1.8319065   1.        ]\n",
      " [ 6.3563664   3.52327666  1.        ]\n",
      " [ 6.70657317  2.82845367  1.        ]\n",
      " [ 6.01050002  3.77179055  1.        ]\n",
      " [ 7.78587049  3.82350415  1.        ]\n",
      " [ 6.12691209  5.16323595  1.        ]\n",
      " [ 6.40198936  4.33652795  1.        ]\n",
      " [ 2.63081816  4.69347315 -1.        ]\n",
      " [ 2.76062082  7.65813068 -1.        ]\n",
      " [ 4.0996596   5.88183595 -1.        ]\n",
      " [ 3.65526373  5.3198218  -1.        ]\n",
      " [ 3.64013153  6.66638308 -1.        ]\n",
      " [ 1.38304396  5.53928021 -1.        ]\n",
      " [ 2.97567388  4.66574153 -1.        ]\n",
      " [ 2.26196909  4.65328249 -1.        ]\n",
      " [ 3.2799246   6.69377315 -1.        ]\n",
      " [ 2.90184961  5.84042656 -1.        ]\n",
      " [ 3.91017891  5.86629844 -1.        ]\n",
      " [ 3.31721822  7.07774381 -1.        ]\n",
      " [ 3.78632796  4.87317419 -1.        ]\n",
      " [ 2.5335809   5.26932225 -1.        ]\n",
      " [ 2.05555374  5.61512019 -1.        ]\n",
      " [ 2.58995031  6.09435159 -1.        ]\n",
      " [ 2.98297959  5.95782855 -1.        ]\n",
      " [ 3.37915174  5.71311281 -1.        ]\n",
      " [ 5.25930895  5.9383736  -1.        ]\n",
      " [ 2.95774285  5.89269472 -1.        ]\n",
      " [ 2.044055    5.28039561 -1.        ]\n",
      " [ 2.65401822  5.18700701 -1.        ]\n",
      " [ 2.53640403  6.27451636 -1.        ]\n",
      " [ 3.48148147  5.10908492 -1.        ]\n",
      " [ 1.45920299  4.84264474 -1.        ]\n",
      " [ 3.06326199  5.68770775 -1.        ]\n",
      " [ 3.15650654  5.84233298 -1.        ]\n",
      " [ 3.23218104  8.2567235  -1.        ]\n",
      " [ 2.40268393  5.29529972 -1.        ]\n",
      " [ 2.76207827  6.94326072 -1.        ]\n",
      " [ 1.57593909  6.74718833 -1.        ]\n",
      " [ 2.50668012  4.81105504 -1.        ]\n",
      " [ 2.45713852  6.77325298 -1.        ]\n",
      " [ 3.41605005  4.81611936 -1.        ]\n",
      " [ 1.84381757  3.34082776 -1.        ]\n",
      " [ 3.7811981   6.60631952 -1.        ]\n",
      " [ 4.49448454  4.24410942 -1.        ]\n",
      " [ 0.93001497  6.45093446 -1.        ]\n",
      " [ 3.42625873  5.3159891  -1.        ]\n",
      " [ 3.67690804  7.6595508  -1.        ]\n",
      " [ 2.36256297  7.0685094  -1.        ]\n",
      " [ 2.60272819  5.5466142  -1.        ]\n",
      " [ 2.86711942  5.31216239 -1.        ]\n",
      " [ 2.70220912  4.7859226  -1.        ]\n",
      " [ 2.69098703  5.55907737 -1.        ]\n",
      " [ 1.32399619  5.7196445  -1.        ]\n",
      " [ 4.15233156  5.63530646 -1.        ]\n",
      " [ 4.07961859  6.15670386 -1.        ]\n",
      " [ 2.18663574  6.5785215  -1.        ]\n",
      " [ 1.53357567  6.34965446 -1.        ]\n",
      " [ 3.52106488  5.23585608 -1.        ]\n",
      " [ 2.42421203  4.56220853 -1.        ]\n",
      " [ 3.14195316  7.36453185 -1.        ]\n",
      " [ 2.68067158  5.31055082 -1.        ]\n",
      " [ 3.69153875  5.3477064  -1.        ]\n",
      " [ 3.69474914  5.47881069 -1.        ]\n",
      " [ 2.27440262  4.15693045 -1.        ]\n",
      " [ 1.61663604  5.522026   -1.        ]\n",
      " [ 1.4170616   5.52034419 -1.        ]\n",
      " [ 3.61037938  6.6203583  -1.        ]\n",
      " [ 1.81114074  6.69845715 -1.        ]\n",
      " [ 2.49318365  6.00377089 -1.        ]\n",
      " [ 2.40368596  6.93184837 -1.        ]\n",
      " [ 2.9474327   6.33996498 -1.        ]\n",
      " [ 1.06372019  5.98431789 -1.        ]\n",
      " [ 3.1887786   6.16092817 -1.        ]\n",
      " [ 3.52389102  5.80934651 -1.        ]\n",
      " [ 3.08842209  5.60515049 -1.        ]\n",
      " [ 2.68911383  5.73226646 -1.        ]\n",
      " [ 3.09740017  4.87198867 -1.        ]\n",
      " [ 3.39904635  6.28044171 -1.        ]\n",
      " [ 0.22740724  5.00687639 -1.        ]\n",
      " [ 4.95591231  6.84163126 -1.        ]\n",
      " [ 3.39009332  5.75054142 -1.        ]\n",
      " [ 2.34759142  6.04949498 -1.        ]\n",
      " [ 2.60904662  6.49383678 -1.        ]\n",
      " [ 3.49374178  6.64331447 -1.        ]\n",
      " [ 2.88389606  4.42937659 -1.        ]\n",
      " [ 0.96931553  5.79309632 -1.        ]\n",
      " [ 5.06449286  6.88017891 -1.        ]\n",
      " [ 2.88945934  4.30189418 -1.        ]\n",
      " [ 4.02017271  6.38728048 -1.        ]\n",
      " [ 2.30795015  3.74443577 -1.        ]\n",
      " [ 4.53637705  4.97749316 -1.        ]\n",
      " [ 3.28634369  6.03863055 -1.        ]\n",
      " [ 3.60884383  4.3432849  -1.        ]\n",
      " [ 1.95474663  5.01448926 -1.        ]\n",
      " [ 4.21114529  4.52816499 -1.        ]\n",
      " [ 3.68981816  7.64813493 -1.        ]\n",
      " [ 4.30184623  6.16422776 -1.        ]\n",
      " [ 2.37191244  6.56729028 -1.        ]\n",
      " [ 2.51897288  5.7773249  -1.        ]\n",
      " [ 5.3039167   5.64656825 -1.        ]\n",
      " [ 1.93998418  4.38352581 -1.        ]\n",
      " [ 2.8640503   5.70816264 -1.        ]\n",
      " [ 4.13689136  5.23850779 -1.        ]\n",
      " [ 3.09772497  6.85792392 -1.        ]\n",
      " [ 3.58295368  7.14110187 -1.        ]\n",
      " [ 2.60055097  7.46657872 -1.        ]\n",
      " [ 3.37005589  6.85255194 -1.        ]]\n"
     ]
    }
   ],
   "source": [
    "dataset=np.concatenate((class1,class2))\n",
    "print(dataset)"
   ]
  },
  {
   "cell_type": "code",
   "execution_count": 54,
   "metadata": {},
   "outputs": [
    {
     "name": "stdout",
     "output_type": "stream",
     "text": [
      "(200, 3)\n"
     ]
    }
   ],
   "source": [
    "np.random.shuffle(dataset)\n",
    "print(dataset.shape)\n",
    "train_data_x=dataset[:150,:2]\n",
    "train_data_y=dataset[:150,-1]\n",
    "# 转换为Paddle的tensor格式\n",
    "x_data=paddle.to_tensor(train_data_x.astype('float32'))\n",
    "y_data=paddle.to_tensor(train_data_y.astype('float32'))"
   ]
  },
  {
   "cell_type": "markdown",
   "metadata": {},
   "source": [
    "### 建立模型\n",
    "感知机的基本模型为\n",
    "$$y=w^TX+b"
   ]
  },
  {
   "cell_type": "code",
   "execution_count": 56,
   "metadata": {},
   "outputs": [],
   "source": [
    "linear=paddle.nn.Linear(in_features=2,out_features=1)\n",
    "\n",
    "mse_loss=paddle.nn.MSELoss()\n",
    "\n",
    "sgd_opt=paddle.optimizer.SGD(learning_rate=0.001,parameters=linear.parameters())"
   ]
  },
  {
   "cell_type": "markdown",
   "metadata": {},
   "source": [
    "### 训练模型"
   ]
  },
  {
   "cell_type": "code",
   "execution_count": 57,
   "metadata": {},
   "outputs": [
    {
     "name": "stdout",
     "output_type": "stream",
     "text": [
      "epoch 0 loss [32.266922]\n",
      "epoch 1000 loss [0.99909306]\n",
      "epoch 2000 loss [0.99901026]\n",
      "epoch 3000 loss [0.99895954]\n",
      "epoch 4000 loss [0.9989028]\n",
      "epoch 5000 loss [0.9988427]\n",
      "epoch 6000 loss [0.9988092]\n",
      "epoch 7000 loss [0.998769]\n",
      "epoch 8000 loss [0.9987201]\n",
      "epoch 9000 loss [0.99870104]\n",
      "epoch 10000 loss [0.9986607]\n",
      "epoch 11000 loss [0.9986278]\n",
      "epoch 12000 loss [0.99862015]\n",
      "epoch 13000 loss [0.99858713]\n",
      "epoch 14000 loss [0.9985772]\n",
      "epoch 15000 loss [0.9985533]\n",
      "epoch 16000 loss [0.9985368]\n",
      "epoch 17000 loss [0.9985222]\n",
      "epoch 18000 loss [0.99850017]\n",
      "epoch 19000 loss [0.9985033]\n",
      "epoch 20000 loss [0.9984899]\n",
      "epoch 21000 loss [0.99847275]\n",
      "epoch 22000 loss [0.99847484]\n",
      "epoch 23000 loss [0.9984642]\n",
      "epoch 24000 loss [0.9984549]\n",
      "epoch 25000 loss [0.9984547]\n",
      "epoch 26000 loss [0.99844635]\n",
      "epoch 27000 loss [0.99844533]\n",
      "epoch 28000 loss [0.99844116]\n",
      "epoch 29000 loss [0.9984363]\n",
      "epoch 30000 loss [0.9984313]\n",
      "epoch 31000 loss [0.9984292]\n",
      "epoch 32000 loss [0.99842143]\n",
      "epoch 33000 loss [0.99841547]\n",
      "epoch 34000 loss [0.9984182]\n",
      "epoch 35000 loss [0.9984165]\n",
      "epoch 36000 loss [0.9984123]\n",
      "epoch 37000 loss [0.99841374]\n",
      "epoch 38000 loss [0.99840397]\n",
      "epoch 39000 loss [0.9984012]\n",
      "epoch 40000 loss [0.9984071]\n",
      "epoch 41000 loss [0.9984087]\n",
      "epoch 42000 loss [0.9984142]\n",
      "epoch 43000 loss [0.99840397]\n",
      "epoch 44000 loss [0.9984092]\n",
      "epoch 45000 loss [0.9984035]\n",
      "epoch 46000 loss [0.99840796]\n",
      "epoch 47000 loss [0.99840295]\n",
      "epoch 48000 loss [0.9983967]\n",
      "epoch 49000 loss [0.99839985]\n"
     ]
    }
   ],
   "source": [
    "total_epoch=50000\n",
    "for i in range(total_epoch):\n",
    "    y_predict=linear(x_data)\n",
    "    loss=mse_loss(y_predict,y_data)\n",
    "\n",
    "    # 梯度下降更新参数\n",
    "    loss.backward()\n",
    "    sgd_opt.step()\n",
    "    sgd_opt.clear_grad()\n",
    "\n",
    "    # 输出一些参数\n",
    "    if i%1000==0:\n",
    "        print(\"epoch {} loss {}\".format(i, loss.numpy()))\n",
    "    "
   ]
  },
  {
   "cell_type": "markdown",
   "metadata": {},
   "source": [
    "### 训练结果"
   ]
  },
  {
   "cell_type": "code",
   "execution_count": 58,
   "metadata": {},
   "outputs": [],
   "source": [
    "w1=linear.weight.numpy()[0].item()\n",
    "w2=linear.weight.numpy()[1].item()\n",
    "b=linear.bias.numpy().item()"
   ]
  },
  {
   "cell_type": "code",
   "execution_count": 59,
   "metadata": {},
   "outputs": [
    {
     "data": {
      "text/plain": [
       "[<matplotlib.lines.Line2D at 0x2823d8e20>]"
      ]
     },
     "execution_count": 59,
     "metadata": {},
     "output_type": "execute_result"
    },
    {
     "data": {
      "image/png": "[encoded data removed]",
      "text/plain": [
       "<Figure size 432x288 with 1 Axes>"
      ]
     },
     "metadata": {
      "needs_background": "light"
     },
     "output_type": "display_data"
    }
   ],
   "source": [
    "plt.scatter(class1[:,0],class2[:,0])\n",
    "plt.scatter(class2[:,0],class2[:,1])\n",
    "x=np.arange(10)\n",
    "y=w1*np.arange(10)/w2+b\n",
    "plt.plot(x,y)\n"
   ]
  }
 ],
 "metadata": {
  "kernelspec": {
   "display_name": "Python 3.8.12 ('tf2')",
   "language": "python",
   "name": "python3"
  },
  "language_info": {
   "codemirror_mode": {
    "name": "ipython",
    "version": 3
   },
   "file_extension": ".py",
   "mimetype": "text/x-python",
   "name": "python",
   "nbconvert_exporter": "python",
   "pygments_lexer": "ipython3",
   "version": "3.8.12"
  },
  "orig_nbformat": 4,
  "vscode": {
   "interpreter": {
    "hash": "9067ca16a5661c4a3f14541b267ef532d3ffe23a5459a91428797c5813bd06d2"
   }
  }
 },
 "nbformat": 4,
 "nbformat_minor": 2
}
