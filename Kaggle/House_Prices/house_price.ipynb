{
 "cells": [
  {
   "cell_type": "code",
   "execution_count": 124,
   "metadata": {},
   "outputs": [],
   "source": [
    "import pandas as pd\n",
    "train_data=pd.read_csv('train.csv')\n",
    "test_data=pd.read_csv('test.csv')"
   ]
  },
  {
   "cell_type": "code",
   "execution_count": 83,
   "metadata": {},
   "outputs": [
    {
     "name": "stdout",
     "output_type": "stream",
     "text": [
      "(1460, 81)\n",
      "(1459, 80)\n"
     ]
    }
   ],
   "source": [
    "# 首先查看数据，根据data-description.txt里面的信息，我们可以看出其具有多少特征\n",
    "print(train_data.shape)\n",
    "print(test_data.shape)"
   ]
  },
  {
   "cell_type": "code",
   "execution_count": null,
   "metadata": {},
   "outputs": [],
   "source": []
  },
  {
   "cell_type": "code",
   "execution_count": 125,
   "metadata": {},
   "outputs": [],
   "source": [
    "# 首先第一步是数据预处理，这个需要针对所有的feature进行处理\n",
    "all_features=pd.concat((train_data.iloc[:,1:-1],test_data.iloc[:,1:]))"
   ]
  },
  {
   "cell_type": "code",
   "execution_count": 126,
   "metadata": {},
   "outputs": [],
   "source": [
    "# 对于数值型标准利用标准化数据，这个与后面的有关\n",
    "numeric_features=all_features.dtypes[all_features.dtypes!='object'].index\n",
    "\n",
    "all_features[numeric_features]=all_features[numeric_features].apply(lambda x:(x-x.mean())/(x.std()))\n",
    "\n",
    "# 同时处缺失值\n",
    "all_features[numeric_features]=all_features[numeric_features].fillna(0)"
   ]
  },
  {
   "cell_type": "code",
   "execution_count": 127,
   "metadata": {},
   "outputs": [
    {
     "data": {
      "text/plain": [
       "(2919, 331)"
      ]
     },
     "execution_count": 127,
     "metadata": {},
     "output_type": "execute_result"
    }
   ],
   "source": [
    "# 对于离散型利用one hot编码处理\n",
    "all_features=pd.get_dummies(all_features,dummy_na=True)\n",
    "all_features.shape"
   ]
  },
  {
   "cell_type": "code",
   "execution_count": 129,
   "metadata": {},
   "outputs": [
    {
     "data": {
      "text/plain": [
       "0"
      ]
     },
     "execution_count": 129,
     "metadata": {},
     "output_type": "execute_result"
    }
   ],
   "source": [
    "all_features.isna().sum().sum()"
   ]
  },
  {
   "cell_type": "code",
   "execution_count": 130,
   "metadata": {},
   "outputs": [],
   "source": [
    "# 将数据从dataframe转换成torch\n",
    "import torch\n",
    "n_train=train_data.shape[0]\n",
    "\n",
    "train_features=torch.tensor(all_features[:n_train].values,dtype=torch.float32)\n",
    "test_features=torch.tensor(all_features[n_train:].values,dtype=torch.float32)\n",
    "\n",
    "train_labels=torch.tensor(train_data.SalePrice.values.reshape(-1,1),dtype=torch.float32)"
   ]
  },
  {
   "cell_type": "code",
   "execution_count": 131,
   "metadata": {},
   "outputs": [],
   "source": [
    "from torch import nn\n",
    "from torch.utils import data\n",
    "\n",
    "features_num=train_features.shape[1]\n",
    "\n",
    "def get_net():\n",
    "    return nn.Sequential(nn.Linear(features_num,1))\n",
    "\n",
    "net=get_net()\n",
    "\n",
    "\n",
    "def init_weight(m):\n",
    "    if type(m)==nn.Linear:\n",
    "        nn.init.normal_(m.weight,std=0.01)\n",
    "net.apply(init_weight)\n",
    "\n",
    "\n",
    "loss=nn.MSELoss()\n",
    "\n",
    "def load_array(feature,label,batch_size):\n",
    "    import torch\n",
    "    from torch.utils import data\n",
    "    dataset=data.TensorDataset(feature,label)\n",
    "    return data.DataLoader(dataset,batch_size=batch_size,shuffle=True,num_workers=4)\n",
    "\n",
    "def log_rmse(net, features, labels):\n",
    "    # 为了在取对数时进一步稳定该值，将小于1的值设置为1\n",
    "    clipped_preds = torch.clamp(net(features), 1, float('inf'))\n",
    "    rmse = torch.sqrt(loss(torch.log(clipped_preds),\n",
    "                           torch.log(labels)))\n",
    "    return rmse.item()\n",
    "\n",
    "import d2l\n",
    "\n",
    "def concreteModel(net,train_feature,train_label,test_feature,test_label,num_epoches,learning_rate,weight_decay,batch_size):\n",
    "    train_ls=[]\n",
    "    test_ls=[]\n",
    "    trainer=torch.optim.Adam(net.parameters(),lr=learning_rate,weight_decay=weight_decay)\n",
    "    train_iter=load_array(train_feature,train_label,batch_size)\n",
    "    for epoch in range(num_epoches):\n",
    "        for X,y in train_iter:\n",
    "            trainer.zero_grad()\n",
    "            l=loss(net(X),y)\n",
    "            l.backward()\n",
    "            trainer.step()\n",
    "        train_ls.append(log_rmse(net,train_feature,train_label))\n",
    "        if test_label is not None:\n",
    "            test_ls.append(log_rmse(net,test_feature,test_label))\n",
    "    return train_ls,test_ls"
   ]
  },
  {
   "cell_type": "code",
   "execution_count": 132,
   "metadata": {},
   "outputs": [],
   "source": [
    "def get_k_fold_data(k, i, X, y):\n",
    "    assert k > 1\n",
    "    fold_size = X.shape[0] // k\n",
    "    X_train, y_train = None, None\n",
    "    for j in range(k):\n",
    "        idx = slice(j * fold_size, (j + 1) * fold_size)\n",
    "        X_part, y_part = X[idx, :], y[idx,:]\n",
    "        if j == i:\n",
    "            X_valid, y_valid = X_part, y_part\n",
    "        elif X_train is None:\n",
    "            X_train, y_train = X_part, y_part\n",
    "        else:\n",
    "            X_train = torch.cat([X_train, X_part], 0)\n",
    "            y_train = torch.cat([y_train, y_part], 0)\n",
    "    return X_train, y_train, X_valid, y_valid"
   ]
  },
  {
   "cell_type": "code",
   "execution_count": 133,
   "metadata": {},
   "outputs": [],
   "source": [
    "def k_fold(k, X_train, y_train, num_epochs, learning_rate, weight_decay,\n",
    "           batch_size):\n",
    "    train_l_sum, valid_l_sum = 0, 0\n",
    "    for i in range(k):\n",
    "        data = get_k_fold_data(k, i, X_train, y_train)\n",
    "        net = get_net()\n",
    "        train_ls, valid_ls = concreteModel(net, *data, num_epochs, learning_rate,\n",
    "                                   weight_decay, batch_size)\n",
    "        train_l_sum += train_ls[-1]\n",
    "        valid_l_sum += valid_ls[-1]\n",
    "        print(f'折{i + 1}，训练log rmse{float(train_ls[-1]):f}, '\n",
    "              f'验证log rmse{float(valid_ls[-1]):f}')\n",
    "    return train_l_sum / k, valid_l_sum / k"
   ]
  },
  {
   "cell_type": "code",
   "execution_count": 134,
   "metadata": {},
   "outputs": [
    {
     "name": "stdout",
     "output_type": "stream",
     "text": [
      "torch.Size([1460, 331])\n",
      "torch.Size([1460, 1])\n",
      "折1，训练log rmse0.169609, 验证log rmse0.156060\n",
      "torch.Size([1460, 331])\n",
      "torch.Size([1460, 1])\n",
      "折2，训练log rmse0.161922, 验证log rmse0.188611\n",
      "torch.Size([1460, 331])\n",
      "torch.Size([1460, 1])\n",
      "折3，训练log rmse0.164113, 验证log rmse0.168780\n",
      "torch.Size([1460, 331])\n",
      "torch.Size([1460, 1])\n",
      "折4，训练log rmse0.167919, 验证log rmse0.154550\n",
      "torch.Size([1460, 331])\n",
      "torch.Size([1460, 1])\n",
      "折5，训练log rmse0.162933, 验证log rmse0.182970\n",
      "5-折验证: 平均训练log rmse: 0.165299, 平均验证log rmse: 0.170194\n"
     ]
    }
   ],
   "source": [
    "k, num_epochs, lr, weight_decay, batch_size = 5, 100, 5, 0, 64\n",
    "train_l, valid_l = k_fold(k, train_features, train_labels, num_epochs, lr,\n",
    "                          weight_decay, batch_size)\n",
    "print(f'{k}-折验证: 平均训练log rmse: {float(train_l):f}, '\n",
    "      f'平均验证log rmse: {float(valid_l):f}')"
   ]
  },
  {
   "cell_type": "code",
   "execution_count": 135,
   "metadata": {},
   "outputs": [
    {
     "name": "stdout",
     "output_type": "stream",
     "text": [
      "训练log rmse：0.162425\n"
     ]
    }
   ],
   "source": [
    "def train_and_pred(train_features, test_features, train_labels, test_data,\n",
    "                   num_epochs, lr, weight_decay, batch_size):\n",
    "    net = get_net()\n",
    "    train_ls, _ = concreteModel(net, train_features, train_labels, None, None,\n",
    "                        num_epochs, lr, weight_decay, batch_size)\n",
    "    print(f'训练log rmse：{float(train_ls[-1]):f}')\n",
    "    # 将网络应用于测试集。\n",
    "    preds = net(test_features).detach().numpy()\n",
    "    # 将其重新格式化以导出到Kaggle\n",
    "    test_data['SalePrice'] = pd.Series(preds.reshape(1, -1)[0])\n",
    "    submission = pd.concat([test_data['Id'], test_data['SalePrice']], axis=1)\n",
    "    submission.to_csv('submission.csv', index=False)\n",
    "train_and_pred(train_features, test_features, train_labels, test_data,\n",
    "               num_epochs, lr, weight_decay, batch_size)"
   ]
  }
 ],
 "metadata": {
  "kernelspec": {
   "display_name": "Python 3.9.13 ('xclds')",
   "language": "python",
   "name": "python3"
  },
  "language_info": {
   "codemirror_mode": {
    "name": "ipython",
    "version": 3
   },
   "file_extension": ".py",
   "mimetype": "text/x-python",
   "name": "python",
   "nbconvert_exporter": "python",
   "pygments_lexer": "ipython3",
   "version": "3.9.13"
  },
  "orig_nbformat": 4,
  "vscode": {
   "interpreter": {
    "hash": "5d5a94028ffb6799d32cc39aa6ce5899fe730c16aed1d2081e95d92d436c057d"
   }
  }
 },
 "nbformat": 4,
 "nbformat_minor": 2
}
