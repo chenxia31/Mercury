{
 "cells": [
  {
   "cell_type": "markdown",
   "metadata": {},
   "source": [
    "# chapter03 线性神经网络\n",
    "## chapter 3.1 线性回归"
   ]
  },
  {
   "cell_type": "markdown",
   "metadata": {},
   "source": [
    "### 矢量化加速"
   ]
  },
  {
   "cell_type": "code",
   "execution_count": 4,
   "metadata": {},
   "outputs": [],
   "source": [
    "import math\n",
    "import time\n",
    "import numpy as np\n",
    "import torch"
   ]
  },
  {
   "cell_type": "code",
   "execution_count": 5,
   "metadata": {},
   "outputs": [],
   "source": [
    "n=10000\n",
    "a=torch.ones(n)\n",
    "b=torch.ones(n)"
   ]
  },
  {
   "cell_type": "code",
   "execution_count": 8,
   "metadata": {},
   "outputs": [
    {
     "name": "stdout",
     "output_type": "stream",
     "text": [
      "未使用矢量化\n",
      "0.17622089385986328sec\n",
      "使用矢量化\n",
      "0.0002923011779785156sec\n"
     ]
    }
   ],
   "source": [
    "# timer banchmark\n",
    "# saver\n",
    "class Timer:\n",
    "    '''记录多次运行的时间'''\n",
    "    def __init__(self) -> None:\n",
    "        self.times=[]\n",
    "        self.start()\n",
    "    \n",
    "    def start(self):\n",
    "        '''启动定时器'''\n",
    "        self.tik=time.time()\n",
    "    def stop(self):\n",
    "        '''停止计时并记录在列表中'''\n",
    "        self.times.append(time.time()-self.tik)\n",
    "        return self.times[-1]\n",
    "    def avg(self):\n",
    "        '''return average time'''\n",
    "        return sum(self.times)/len(self.times)\n",
    "    def sum(self):\n",
    "        '''return sum of the time'''\n",
    "        return sum(self.times)\n",
    "    def cumsum(self):\n",
    "        '''返回累积时间'''\n",
    "        return np.array(self.times).cumsum().tolist()\n",
    "\n",
    "c=torch.zeros(n)\n",
    "timer=Timer()\n",
    "for i in range(n):\n",
    "    c[i]=a[i]+b[i]\n",
    "print('未使用矢量化')\n",
    "print('{}sec'.format(str(timer.stop())))\n",
    "timer.start()\n",
    "d=a+b\n",
    "print('使用矢量化')\n",
    "print('{}sec'.format(str(timer.stop())))"
   ]
  },
  {
   "cell_type": "markdown",
   "metadata": {},
   "source": [
    "### 线性回归复杂实现"
   ]
  },
  {
   "cell_type": "code",
   "execution_count": 12,
   "metadata": {},
   "outputs": [],
   "source": [
    "# 第一步，生成包含随机噪音的数据\n",
    "import random\n",
    "import torch\n",
    "def synthetic_data(w,b,num_examples):\n",
    "    '''生成包含随机噪音的线性回归数据'''\n",
    "    X=torch.normal(0,1,(num_examples,len(w)))\n",
    "    y=torch.matmul(X,w)+b\n",
    "    y+=torch.normal(0,0.01,y.shape)\n",
    "    return X,y.reshape(-1,1)\n",
    "\n",
    "true_w=torch.tensor([2,-3.4])\n",
    "true_b=4.2\n",
    "features,labels=synthetic_data(true_w,true_b,1000)"
   ]
  },
  {
   "cell_type": "code",
   "execution_count": 13,
   "metadata": {},
   "outputs": [
    {
     "data": {
      "text/plain": [
       "<matplotlib.collections.PathCollection at 0x7fe99a845d90>"
      ]
     },
     "execution_count": 13,
     "metadata": {},
     "output_type": "execute_result"
    },
    {
     "data": {
      "image/png": "[encoded data removed]",
      "text/plain": [
       "<Figure size 640x480 with 1 Axes>"
      ]
     },
     "metadata": {},
     "output_type": "display_data"
    }
   ],
   "source": [
    "# 第二步，简单的观察feature与labels之间的关系\n",
    "# 本文中有feature为（1000，2），因此可以看第二个特征和labels之间的关系\n",
    "import matplotlib.pyplot as plt\n",
    "plt.scatter(features[:,1],labels)"
   ]
  },
  {
   "cell_type": "code",
   "execution_count": 14,
   "metadata": {},
   "outputs": [
    {
     "name": "stdout",
     "output_type": "stream",
     "text": [
      "tensor([[ 2.0665, -0.3741],\n",
      "        [-1.9531, -1.4392],\n",
      "        [-0.0920,  0.8410],\n",
      "        [ 1.1549, -0.4468],\n",
      "        [ 1.0884, -0.1418],\n",
      "        [ 0.1041, -0.1451],\n",
      "        [-1.0249,  0.6740],\n",
      "        [ 1.2652,  0.4874],\n",
      "        [-1.1819, -0.0941],\n",
      "        [ 1.1415,  0.4155]]) \n",
      " tensor([[ 9.6037],\n",
      "        [ 5.1919],\n",
      "        [ 1.1507],\n",
      "        [ 8.0126],\n",
      "        [ 6.8669],\n",
      "        [ 4.8779],\n",
      "        [-0.1496],\n",
      "        [ 5.0836],\n",
      "        [ 2.1531],\n",
      "        [ 5.0608]])\n"
     ]
    }
   ],
   "source": [
    "# 第三部，对数据集进行迭代处理，这样可以保证在随机梯度下降过程中会慢慢转换进去\n",
    "def data_iter(batch_size,features,labels):\n",
    "    num_examples=len(features)\n",
    "    indices=list(range(num_examples))\n",
    "    random.shuffle(indices)\n",
    "    for i in range(0,num_examples,batch_size):\n",
    "        batch_indices=torch.tensor(indices[i:min(i+batch_size,num_examples)])\n",
    "        yield  features[batch_indices],labels[batch_indices]\n",
    "# yield的作用这里的迭代的结果是逐步发出来的\n",
    "batch_size=10\n",
    "for X,y in data_iter(batch_size,features,labels):\n",
    "    print(X,'\\n',y)\n",
    "    break"
   ]
  },
  {
   "cell_type": "code",
   "execution_count": 15,
   "metadata": {},
   "outputs": [],
   "source": [
    "# 第四步，初始化参数\n",
    "w=torch.normal(0,0.01,size=(2,1),requires_grad=True)\n",
    "b=torch.zeros(1,requires_grad=True)"
   ]
  },
  {
   "cell_type": "code",
   "execution_count": 19,
   "metadata": {},
   "outputs": [],
   "source": [
    "# 第五步，定义模型\n",
    "def linreg(X,w,b):\n",
    "    '''linear regression'''\n",
    "    # X M*n\n",
    "    # w n*1\n",
    "    return torch.matmul(X,w)+b"
   ]
  },
  {
   "cell_type": "code",
   "execution_count": 16,
   "metadata": {},
   "outputs": [],
   "source": [
    "# 第六步，定义损失函数\n",
    "def squared_loss(y_hat,y):\n",
    "    '''均方误差'''\n",
    "    return (y_hat-y.reshape(y_hat.shape))**2/2"
   ]
  },
  {
   "cell_type": "code",
   "execution_count": 17,
   "metadata": {},
   "outputs": [],
   "source": [
    "# 第七步，定义优化算法\n",
    "def sgd(params,lr,batch_size):\n",
    "    with torch.no_grad():\n",
    "        for param in params:\n",
    "            param-=lr*param.grad/batch_size\n",
    "            param.grad.zero_()"
   ]
  },
  {
   "cell_type": "code",
   "execution_count": 20,
   "metadata": {},
   "outputs": [
    {
     "name": "stdout",
     "output_type": "stream",
     "text": [
      "epoch1,loss0.03984002768993378\n",
      "epoch2,loss0.00013736632536165416\n",
      "epoch3,loss4.9877315177582204e-05\n"
     ]
    }
   ],
   "source": [
    "# 第八步，完整的训练过程\n",
    "lr=0.03\n",
    "num_epoch=3\n",
    "net=linreg\n",
    "loss=squared_loss\n",
    "\n",
    "for epoch in range(num_epoch):\n",
    "    for X,y in data_iter(batch_size,features,labels):\n",
    "        l=loss(net(X,w,b),y)\n",
    "        l.sum().backward()\n",
    "        sgd([w,b],lr,batch_size)\n",
    "    with torch.no_grad():\n",
    "        train_l=loss(net(features,w,b),labels)\n",
    "        print('epoch{},loss{}'.format(str(epoch+1),str(float(train_l.mean()))))\n"
   ]
  },
  {
   "cell_type": "code",
   "execution_count": 22,
   "metadata": {},
   "outputs": [
    {
     "data": {
      "text/plain": [
       "tensor([4.2002], requires_grad=True)"
      ]
     },
     "execution_count": 22,
     "metadata": {},
     "output_type": "execute_result"
    }
   ],
   "source": [
    "# 查看估计的参数\n",
    "b"
   ]
  },
  {
   "cell_type": "markdown",
   "metadata": {},
   "source": [
    "### 线性回归简洁实现\n",
    "通过深度学习框架的高级API来实现我们的模型只需要相对较少的代码，我们不必单独分配参数、不必定义我们的损失函数、也不必实现小批量随机梯度下降。当我们需要更复杂的模型的时候，高级API的优势将大大增加"
   ]
  },
  {
   "cell_type": "code",
   "execution_count": 27,
   "metadata": {},
   "outputs": [
    {
     "name": "stdout",
     "output_type": "stream",
     "text": [
      "epoch1 loss is 0.00018535676645115018\n",
      "epoch2 loss is 0.0001027520265779458\n",
      "epoch3 loss is 0.00010297828703187406\n"
     ]
    }
   ],
   "source": [
    "import numpy as np\n",
    "import torch\n",
    "from torch.utils import data\n",
    "# 第一步生成数据集\n",
    "true_w=torch.tensor([2,-3.4])\n",
    "true_b=4.2\n",
    "features,labels=synthetic_data(true_w,true_b,1000)\n",
    "\n",
    "# 第二步读取数据集\n",
    "def load_array(data_arrays,batch_size,is_train=True):\n",
    "    dataset=data.TensorDataset(*data_arrays)\n",
    "    return data.DataLoader(dataset,batch_size,shuffle=is_train)\n",
    "\n",
    "batch_size=10\n",
    "data_iter=load_array((features,labels),batch_size)\n",
    "# 这里data_iter的方式与之前的方式相似\n",
    "# 第三步，可视化掠过\n",
    "# 第四步，定义模型\n",
    "from torch import nn\n",
    "net=nn.Sequential(nn.Linear(2,1))\n",
    "net[0].weight.data.normal_(0,0.01)\n",
    "net[0].bias.data.fill_(0)\n",
    "\n",
    "loss=nn.MSELoss()\n",
    "trainer=torch.optim.SGD(net.parameters(),lr=0.03)\n",
    "\n",
    "num_epoch=3\n",
    "for epoch in range(num_epoch):\n",
    "    for X,y in data_iter:\n",
    "        l=loss(net(X),y)\n",
    "        trainer.zero_grad()\n",
    "        l.backward()\n",
    "        trainer.step()\n",
    "    l=loss(net(features),labels)\n",
    "    print('epoch{} loss is {}'.format(str(epoch+1),str(float(l))))\n",
    "\n",
    "\n",
    "\n",
    "\n"
   ]
  },
  {
   "cell_type": "markdown",
   "metadata": {},
   "source": []
  }
 ],
 "metadata": {
  "kernelspec": {
   "display_name": "Python 3.9.13 ('xclds')",
   "language": "python",
   "name": "python3"
  },
  "language_info": {
   "codemirror_mode": {
    "name": "ipython",
    "version": 3
   },
   "file_extension": ".py",
   "mimetype": "text/x-python",
   "name": "python",
   "nbconvert_exporter": "python",
   "pygments_lexer": "ipython3",
   "version": "3.9.13"
  },
  "orig_nbformat": 4,
  "vscode": {
   "interpreter": {
    "hash": "5d5a94028ffb6799d32cc39aa6ce5899fe730c16aed1d2081e95d92d436c057d"
   }
  }
 },
 "nbformat": 4,
 "nbformat_minor": 2
}
